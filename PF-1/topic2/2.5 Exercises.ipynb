{
 "cells": [
  {
   "cell_type": "markdown",
   "id": "0157ca7f",
   "metadata": {},
   "source": [
    "# Topic 2. Strongly-typed vs. Dynamic languages\n",
    "\n",
    "## Exercises"
   ]
  },
  {
   "cell_type": "markdown",
   "id": "30153061",
   "metadata": {},
   "source": [
    "<div style=\"background-color:rgba(0, 0, 0, 0.0470588); text-align:left; vertical-align: middle; padding:10px 0;\">\n",
    "Write a function that computes the sum of the proper divisors of a given number (i.e., excluding itself)</a>. \n",
    "</div>"
   ]
  },
  {
   "cell_type": "code",
   "execution_count": 17,
   "id": "c3812ee4",
   "metadata": {},
   "outputs": [
    {
     "data": {
      "text/plain": [
       "defined \u001b[32mfunction\u001b[39m \u001b[36msumDivisors\u001b[39m"
      ]
     },
     "execution_count": 17,
     "metadata": {},
     "output_type": "execute_result"
    }
   ],
   "source": [
    "def sumDivisors(n: Int): Int = \n",
    "    var result=0\n",
    "    if n ==0 || n==1 then 0 \n",
    "    else\n",
    "        for(i<-1 to n-1)\n",
    "            if(n%i==0) \n",
    "                result += i\n",
    "        result"
   ]
  },
  {
   "cell_type": "code",
   "execution_count": 18,
   "id": "c8ea14b7",
   "metadata": {},
   "outputs": [],
   "source": [
    "assert(sumDivisors(0) == 0)\n",
    "assert(sumDivisors(1) == 0)\n",
    "assert(sumDivisors(10) == 8)\n",
    "assert(sumDivisors(26) == 16)\n",
    "assert(sumDivisors(100) == 117)\n",
    "\n"
   ]
  },
  {
   "cell_type": "markdown",
   "id": "3e0f03c2",
   "metadata": {},
   "source": [
    "<div style=\"background-color:rgba(0, 0, 0, 0.0470588); text-align:left; vertical-align: middle; padding:10px 0;\">\n",
    "Use the `sumDivisors` function to test if two numbers are <a href=\"https://en.wikipedia.org/wiki/Amicable_numbers\">amicable</a>, and to check wether a given number is <a href=\"https://en.wikipedia.org/wiki/Perfect_number\">perfect</a>. \n",
    "</div>"
   ]
  },
  {
   "cell_type": "code",
   "execution_count": 30,
   "id": "54eb3701",
   "metadata": {},
   "outputs": [
    {
     "data": {
      "text/plain": [
       "defined \u001b[32mfunction\u001b[39m \u001b[36misAmicable\u001b[39m"
      ]
     },
     "execution_count": 30,
     "metadata": {},
     "output_type": "execute_result"
    }
   ],
   "source": [
    "def isAmicable(n: Int, m: Int): Boolean = \n",
    "    sumDivisors(n) == m && sumDivisors(m) == n"
   ]
  },
  {
   "cell_type": "code",
   "execution_count": 31,
   "id": "58b6536a",
   "metadata": {},
   "outputs": [],
   "source": [
    "assert(isAmicable(284, 220))\n",
    "assert(!isAmicable(16, 16))\n",
    "assert(isAmicable(1210,1184))\n",
    "assert(!isAmicable(1222, 333))\n",
    "assert(isAmicable(2924,2620))"
   ]
  },
  {
   "cell_type": "code",
   "execution_count": 42,
   "id": "8cafaeb4",
   "metadata": {},
   "outputs": [
    {
     "data": {
      "text/plain": [
       "defined \u001b[32mfunction\u001b[39m \u001b[36misPerfect\u001b[39m"
      ]
     },
     "execution_count": 42,
     "metadata": {},
     "output_type": "execute_result"
    }
   ],
   "source": [
    "def isPerfect(n: Int): Boolean = \n",
    "    sumDivisors(n) == n"
   ]
  },
  {
   "cell_type": "code",
   "execution_count": 44,
   "id": "8b6a1616",
   "metadata": {},
   "outputs": [],
   "source": [
    "assert(isPerfect(0))\n",
    "assert(isPerfect(6))\n",
    "assert(isPerfect(28))\n",
    "assert(!isPerfect(27))\n",
    "assert(isPerfect(496))\n",
    "assert(isPerfect(8128))"
   ]
  },
  {
   "cell_type": "markdown",
   "id": "86f3e280",
   "metadata": {},
   "source": [
    "<div style=\"background-color:rgba(0, 0, 0, 0.0470588); text-align:left; vertical-align: middle; padding:10px 0;\">\n",
    "Write a function that prints to the console the pairs of amicable numbers less than a given number. \n",
    "</div>"
   ]
  },
  {
   "cell_type": "code",
   "execution_count": 46,
   "id": "5a5f57ac",
   "metadata": {},
   "outputs": [
    {
     "data": {
      "text/plain": [
       "defined \u001b[32mfunction\u001b[39m \u001b[36mprintAmicables\u001b[39m"
      ]
     },
     "execution_count": 46,
     "metadata": {},
     "output_type": "execute_result"
    }
   ],
   "source": [
    "def printAmicables(n: Int): Unit = \n",
    "    for(i<-0 to n-1)\n",
    "        if (isAmicable(i,i+1))\n",
    "            System.out.println(\"Es amigable:\"+ i + \"-\" + (i+1))"
   ]
  },
  {
   "cell_type": "code",
   "execution_count": 48,
   "id": "3c151ff3",
   "metadata": {},
   "outputs": [],
   "source": [
    "printAmicables(5000)"
   ]
  },
  {
   "cell_type": "markdown",
   "id": "b9913eb9",
   "metadata": {},
   "source": [
    "<div style=\"background-color:rgba(0, 0, 0, 0.0470588); text-align:left; vertical-align: middle; padding:10px 0;\">\n",
    "Write a function that returns the product of the members of a finite arithmetic progression with an initial element <em>a</em>, common differences <em>d</em>, and <em>n</em> elements.\n",
    "</div>"
   ]
  },
  {
   "cell_type": "code",
   "execution_count": 53,
   "id": "f61645dc",
   "metadata": {},
   "outputs": [
    {
     "data": {
      "text/plain": [
       "defined \u001b[32mfunction\u001b[39m \u001b[36mproduct\u001b[39m"
      ]
     },
     "execution_count": 53,
     "metadata": {},
     "output_type": "execute_result"
    }
   ],
   "source": [
    "def product(a: Int, d: Int, n: Int): Int = \n",
    "    var result = 1\n",
    "    for (i <- 0 to n-1) \n",
    "        result *= (a + i * d)\n",
    "    result"
   ]
  },
  {
   "cell_type": "code",
   "execution_count": 54,
   "id": "8e88d11e",
   "metadata": {},
   "outputs": [],
   "source": [
    "assert(product(1, 10000, 1) == 1)\n",
    "assert(product(1, 1, 5) == 120)\n",
    "assert(product(1, 3, 4) == 280)\n",
    "assert(product(10, 5, 6) == 78750000)"
   ]
  }
 ],
 "metadata": {
  "kernelspec": {
   "display_name": "Scala 3.3",
   "language": "scala",
   "name": "scala33"
  },
  "language_info": {
   "codemirror_mode": "text/x-scala",
   "file_extension": ".sc",
   "mimetype": "text/x-scala",
   "name": "scala",
   "nbconvert_exporter": "script",
   "version": "2.13.14"
  }
 },
 "nbformat": 4,
 "nbformat_minor": 5
}
